{
 "cells": [
  {
   "cell_type": "markdown",
   "metadata": {},
   "source": [
    "# Hi-res model\n",
    "\n",
    "\n",
    "David Siegel\n",
    "7:22 AM (3 hours ago)\n",
    "to me, David, Laure, Eric, Zachary, Andrew\n",
    "\n",
    "Hi Matt,\n",
    "\n",
    "As we were discussed at the meeting, we (EXPORTS) would really like to know what the eddy resolving BGC-CESM model says about eddy sign for staging the cruise.  We (kinda) know how to find a retentive feature based upon NRT altimetry. What we don’t know is the BGC response of a cyclone vs. anticyclone would be. We can make arguments either which way, but need some help here (even from a model!!).  Anyways our targets are the inner box (46-52N and 15-23W) for the months April and May (see below). Where we are trying to get at in the center of a cyclone or anticyclone are BGC process (biomass, NPP, NCP, export, etc.) reduced or enhanced during that time of year at that location.  Even a collection of snapshots from the model could be useful.  \n",
    "\n",
    "Let me know if you need any clarifications in this request…  Thanx in advance, Dave"
   ]
  },
  {
   "cell_type": "code",
   "execution_count": 1,
   "metadata": {},
   "outputs": [
    {
     "name": "stderr",
     "output_type": "stream",
     "text": [
      "Cannot write to data cache '/glade/p/cesmdata/cseg'. Will not be able to download remote data files. Use environment variable 'CESMDATAROOT' to specify another directory.\n"
     ]
    }
   ],
   "source": [
    "%matplotlib inline\n",
    "import os\n",
    "from subprocess import call\n",
    "from glob import glob\n",
    "\n",
    "import numpy as np\n",
    "import xarray as xr\n",
    "import pandas as pd\n",
    "import dask\n",
    "\n",
    "import cftime\n",
    "import time\n",
    "\n",
    "import matplotlib.pyplot as plt\n",
    "\n",
    "import cartopy\n",
    "import cartopy.crs as ccrs\n",
    "from cartopy.mpl.ticker import LongitudeFormatter, LatitudeFormatter\n",
    "\n",
    "import cmocean\n",
    "\n",
    "import pop_tools\n",
    "\n",
    "import util"
   ]
  },
  {
   "cell_type": "markdown",
   "metadata": {},
   "source": [
    "## spin up a dask cluster\n",
    "\n",
    "Matplotlib is not thread safe, so ensure that each task is only one thread."
   ]
  },
  {
   "cell_type": "code",
   "execution_count": 2,
   "metadata": {},
   "outputs": [],
   "source": [
    "from ncar_jobqueue import NCARCluster\n",
    "from dask.distributed import Client\n",
    "\n",
    "def start_cluster(njobs=36):  \n",
    "    print('starting dask cluster')\n",
    "    \n",
    "    cluster = NCARCluster()\n",
    "    cluster.scale(njobs) #adapt(minimum_jobs=1, maximum_jobs=40)\n",
    "    client = Client(cluster) # Connect this local process to remote workers\n",
    "    print(cluster.dashboard_link)\n",
    "    return client, cluster"
   ]
  },
  {
   "cell_type": "markdown",
   "metadata": {},
   "source": [
    "## search for files"
   ]
  },
  {
   "cell_type": "code",
   "execution_count": 3,
   "metadata": {},
   "outputs": [
    {
     "data": {
      "text/plain": [
       "365"
      ]
     },
     "execution_count": 3,
     "metadata": {},
     "output_type": "execute_result"
    }
   ],
   "source": [
    "case = 'g.e11.G.T62_t12.eco.006'\n",
    "droot = f'/glade/scratch/mclong/hi-res-eco/{case}/ocn/hist'\n",
    "files = sorted(glob(f'{droot}/{case}.pop.h.????-??-??.nc'))\n",
    "len(files)"
   ]
  },
  {
   "cell_type": "code",
   "execution_count": 4,
   "metadata": {},
   "outputs": [
    {
     "data": {
      "text/html": [
       "<pre>&lt;xarray.Dataset&gt;\n",
       "Dimensions:      (nlat: 2400, nlon: 3600, z_t: 62, z_w: 62, z_w_bot: 62)\n",
       "Coordinates:\n",
       "  * z_t          (z_t) float64 500.0 1.5e+03 2.5e+03 ... 5.625e+05 5.875e+05\n",
       "  * z_w          (z_w) float64 0.0 1e+03 2e+03 ... 5.25e+05 5.5e+05 5.75e+05\n",
       "  * z_w_bot      (z_w_bot) float64 1e+03 2e+03 3e+03 ... 5.5e+05 5.75e+05 6e+05\n",
       "Dimensions without coordinates: nlat, nlon\n",
       "Data variables:\n",
       "    TLAT         (nlat, nlon) float64 -78.47 -78.47 -78.47 ... 62.34 62.34 62.34\n",
       "    TLONG        (nlat, nlon) float64 250.0 250.2 250.2 ... 250.0 250.0 250.0\n",
       "    ULAT         (nlat, nlon) float64 -78.45 -78.45 -78.45 ... 62.34 62.34 62.34\n",
       "    ULONG        (nlat, nlon) float64 -109.9 -109.8 -109.7 ... -110.0 -110.0\n",
       "    DXT          (nlat, nlon) float64 2.222e+05 2.222e+05 ... 2.042e+03 927.1\n",
       "    DYT          (nlat, nlon) float64 4.699e+05 4.699e+05 ... 1.664e+03 794.8\n",
       "    TAREA        (nlat, nlon) float64 1.044e+11 1.044e+11 ... 7.369e+05\n",
       "    KMT          (nlat, nlon) int32 0 0 0 0 0 0 0 0 0 0 ... 0 0 0 0 0 0 0 0 0 0\n",
       "    REGION_MASK  (nlat, nlon) int32 0 0 0 0 0 0 0 0 0 0 ... 0 0 0 0 0 0 0 0 0 0\n",
       "    dz           (z_t) float64 1e+03 1e+03 1e+03 ... 2.5e+04 2.5e+04 2.5e+04\n",
       "Attributes:\n",
       "    lateral_dims:       [2400, 3600]\n",
       "    vertical_dims:      62\n",
       "    vert_grid_file:     tx0.1v3_vert_grid\n",
       "    horiz_grid_fname:   inputdata/ocn/pop/tx0.1v2/grid/horiz_grid_200709.ieeer8\n",
       "    topography_fname:   inputdata/ocn/pop/tx0.1v2/grid/topography_km62_201711...\n",
       "    region_mask_fname:  inputdata/ocn/pop/tx0.1v2/grid/region_mask_20080702.i...\n",
       "    type:               tripole\n",
       "    title:              POP_tx0.1v2 grid</pre>"
      ],
      "text/plain": [
       "<xarray.Dataset>\n",
       "Dimensions:      (nlat: 2400, nlon: 3600, z_t: 62, z_w: 62, z_w_bot: 62)\n",
       "Coordinates:\n",
       "  * z_t          (z_t) float64 500.0 1.5e+03 2.5e+03 ... 5.625e+05 5.875e+05\n",
       "  * z_w          (z_w) float64 0.0 1e+03 2e+03 ... 5.25e+05 5.5e+05 5.75e+05\n",
       "  * z_w_bot      (z_w_bot) float64 1e+03 2e+03 3e+03 ... 5.5e+05 5.75e+05 6e+05\n",
       "Dimensions without coordinates: nlat, nlon\n",
       "Data variables:\n",
       "    TLAT         (nlat, nlon) float64 -78.47 -78.47 -78.47 ... 62.34 62.34 62.34\n",
       "    TLONG        (nlat, nlon) float64 250.0 250.2 250.2 ... 250.0 250.0 250.0\n",
       "    ULAT         (nlat, nlon) float64 -78.45 -78.45 -78.45 ... 62.34 62.34 62.34\n",
       "    ULONG        (nlat, nlon) float64 -109.9 -109.8 -109.7 ... -110.0 -110.0\n",
       "    DXT          (nlat, nlon) float64 2.222e+05 2.222e+05 ... 2.042e+03 927.1\n",
       "    DYT          (nlat, nlon) float64 4.699e+05 4.699e+05 ... 1.664e+03 794.8\n",
       "    TAREA        (nlat, nlon) float64 1.044e+11 1.044e+11 ... 7.369e+05\n",
       "    KMT          (nlat, nlon) int32 0 0 0 0 0 0 0 0 0 0 ... 0 0 0 0 0 0 0 0 0 0\n",
       "    REGION_MASK  (nlat, nlon) int32 0 0 0 0 0 0 0 0 0 0 ... 0 0 0 0 0 0 0 0 0 0\n",
       "    dz           (z_t) float64 1e+03 1e+03 1e+03 ... 2.5e+04 2.5e+04 2.5e+04\n",
       "Attributes:\n",
       "    lateral_dims:       [2400, 3600]\n",
       "    vertical_dims:      62\n",
       "    vert_grid_file:     tx0.1v3_vert_grid\n",
       "    horiz_grid_fname:   inputdata/ocn/pop/tx0.1v2/grid/horiz_grid_200709.ieeer8\n",
       "    topography_fname:   inputdata/ocn/pop/tx0.1v2/grid/topography_km62_201711...\n",
       "    region_mask_fname:  inputdata/ocn/pop/tx0.1v2/grid/region_mask_20080702.i...\n",
       "    type:               tripole\n",
       "    title:              POP_tx0.1v2 grid"
      ]
     },
     "execution_count": 4,
     "metadata": {},
     "output_type": "execute_result"
    }
   ],
   "source": [
    "grid = pop_tools.get_grid('POP_tx0.1v2')\n",
    "grid    "
   ]
  },
  {
   "cell_type": "markdown",
   "metadata": {},
   "source": [
    "## Set the domain"
   ]
  },
  {
   "cell_type": "code",
   "execution_count": 5,
   "metadata": {},
   "outputs": [
    {
     "data": {
      "text/plain": [
       "<matplotlib.collections.QuadMesh at 0x2b0d929f75d0>"
      ]
     },
     "execution_count": 5,
     "metadata": {},
     "output_type": "execute_result"
    },
    {
     "data": {
      "image/png": "[encoded data removed]",
      "text/plain": [
       "<Figure size 432x288 with 2 Axes>"
      ]
     },
     "metadata": {
      "needs_background": "light"
     },
     "output_type": "display_data"
    }
   ],
   "source": [
    " # 46-52N and 15-23W \n",
    "domain = {'lat': [45, 52.5], \n",
    "          'lon': [360-24, 360-14]}\n",
    "\n",
    "J, _ = np.where((domain['lat'][0] <= grid.TLAT) & (grid.TLAT <= domain['lat'][1]))\n",
    "_, I = np.where((domain['lon'][0] <= grid.TLONG) & (grid.TLONG <= domain['lon'][1]))\n",
    "\n",
    "inx = slice(I.min(), I.max())\n",
    "jnx = slice(J.min(), J.max())\n",
    "\n",
    "mask = xr.full_like(grid.REGION_MASK, fill_value=0).where(grid.KMT > 0)\n",
    "mask[jnx, inx] = 1 \n",
    "mask.plot()"
   ]
  },
  {
   "cell_type": "markdown",
   "metadata": {},
   "source": [
    "## Process model output"
   ]
  },
  {
   "cell_type": "code",
   "execution_count": 6,
   "metadata": {},
   "outputs": [],
   "source": [
    "nmolcm2s_to_molm2yr = 1e4 * 86400. * 365. * 1e-9\n",
    "\n",
    "def compute_chl_surf(ds):\n",
    "    chl = (ds.spChl.isel(z_t_150m=0, drop=True) + \n",
    "            ds.diatChl.isel(z_t_150m=0, drop=True) + \n",
    "            ds.diazChl.isel(z_t_150m=0, drop=True))\n",
    "    chl.attrs = {'units': ds.spChl.units, 'long_name': 'Surface Chl'}\n",
    "    return chl\n",
    "\n",
    "\n",
    "def compute_ncp_100m(ds):\n",
    "    ncp = (ds.J_DIC.sel(z_t=slice(0, 100e2)) * ds.dz.sel(z_t=slice(0, 100e2))).sum('z_t')\n",
    "    ncp = (-1.0) * ncp * nmolcm2s_to_molm2yr\n",
    "    ncp.attrs = {'units': 'mol m$^{-2}$ yr$^{-1}$', 'long_name': 'NCP (z > -100 m)'}\n",
    "    return ncp\n",
    "    \n",
    "    \n",
    "def compute_poc_flux_100m(ds):\n",
    "    poc_flux_100m = ds.POC_FLUX_IN.sel(z_t=100e2, method='nearest', drop=True)\n",
    "    poc_flux_100m = poc_flux_100m * nmolcm2s_to_molm2yr\n",
    "    poc_flux_100m.attrs = {'units': 'mol m$^{-2}$ yr$^{-1}$', 'long_name': 'POC flux (100 m)'}\n",
    "    return poc_flux_100m\n",
    "\n",
    "derived_vars = {'chl_surf': compute_chl_surf, \n",
    "                'NCP': compute_ncp_100m, \n",
    "                'POC_flux_100m': compute_poc_flux_100m}"
   ]
  },
  {
   "cell_type": "code",
   "execution_count": 7,
   "metadata": {},
   "outputs": [
    {
     "data": {
      "text/html": [
       "<pre>&lt;xarray.Dataset&gt;\n",
       "Dimensions:        (nlat: 241, nlon: 99, time: 365)\n",
       "Coordinates:\n",
       "  * time           (time) object 0001-01-06 00:00:00 ... 0006-01-01 00:00:00\n",
       "Dimensions without coordinates: nlat, nlon\n",
       "Data variables:\n",
       "    SSH            (time, nlat, nlon) float32 -29.437681 -30.0975 ... -58.302483\n",
       "    chl_surf       (time, nlat, nlon) float32 0.13753961 ... 0.00898011\n",
       "    NCP            (time, nlat, nlon) float32 0.17464347 ... -0.57863224\n",
       "    POC_flux_100m  (time, nlat, nlon) float32 0.21497501 ... 0.0005374134</pre>"
      ],
      "text/plain": [
       "<xarray.Dataset>\n",
       "Dimensions:        (nlat: 241, nlon: 99, time: 365)\n",
       "Coordinates:\n",
       "  * time           (time) object 0001-01-06 00:00:00 ... 0006-01-01 00:00:00\n",
       "Dimensions without coordinates: nlat, nlon\n",
       "Data variables:\n",
       "    SSH            (time, nlat, nlon) float32 -29.437681 -30.0975 ... -58.302483\n",
       "    chl_surf       (time, nlat, nlon) float32 0.13753961 ... 0.00898011\n",
       "    NCP            (time, nlat, nlon) float32 0.17464347 ... -0.57863224\n",
       "    POC_flux_100m  (time, nlat, nlon) float32 0.21497501 ... 0.0005374134"
      ]
     },
     "execution_count": 7,
     "metadata": {},
     "output_type": "execute_result"
    }
   ],
   "source": [
    "def filename_file_out(file_in, variable):\n",
    "\n",
    "    basename = os.path.basename(file_in).replace('pop.h', f'pop.h.{variable}')\n",
    "    datestr = basename.split('.')[-2]    \n",
    "    basename = basename.replace(f'.{datestr}', '')\n",
    "    basename = basename.replace('.nc', '.zarr')\n",
    "    return f'data/{basename}'\n",
    "\n",
    "\n",
    "def open_dataset_one_timelevel(file_in, variable):   \n",
    "    \n",
    "    with xr.open_dataset(file_in, decode_coords=False) as ds:           \n",
    "        if variable in derived_vars:\n",
    "            da = derived_vars[variable](ds).isel(nlat=jnx, nlon=inx)\n",
    "        else:\n",
    "            da = ds[variable].isel(nlat=jnx, nlon=inx)\n",
    "        \n",
    "        dso = xr.Dataset()\n",
    "        dso[variable] = da.compute()\n",
    "        for v in dso.variables:\n",
    "            if '_FillValue' not in dso[v].encoding:\n",
    "                dso[v].encoding['_FillValue'] = None\n",
    "\n",
    "        return dso\n",
    "        \n",
    "\n",
    "        \n",
    "client = None        \n",
    "ds_list_merge = []\n",
    "for v in ['SSH', 'chl_surf', 'NCP', 'POC_flux_100m']:\n",
    "\n",
    "    file_out = filename_file_out(files[0], v)        \n",
    "    \n",
    "    if not os.path.exists(file_out):\n",
    "\n",
    "        if client is None:\n",
    "            client, cluster = start_cluster()\n",
    "            \n",
    "        ds_list_concat = []\n",
    "        \n",
    "        for f in files:             \n",
    "            ds_list_concat.append(dask.delayed(open_dataset_one_timelevel)(f, v))\n",
    "\n",
    "        ds_list_concat = dask.compute(*ds_list_concat)            \n",
    "        dset = xr.concat(ds_list_concat, dim='time', data_vars='minimal')\n",
    "        dset.to_zarr(file_out)\n",
    "        ds_list_merge.append(dset)\n",
    "\n",
    "    else:\n",
    "        dset = xr.open_zarr(file_out).compute()\n",
    "        ds_list_merge.append(dset)\n",
    "    \n",
    "ds = xr.merge(ds_list_merge)\n",
    "\n",
    "if client is not None:        \n",
    "    client.close()\n",
    "    cluster.close()\n",
    "    \n",
    "ds"
   ]
  },
  {
   "cell_type": "markdown",
   "metadata": {},
   "source": [
    "Compute the mean SSH field"
   ]
  },
  {
   "cell_type": "code",
   "execution_count": 8,
   "metadata": {},
   "outputs": [
    {
     "data": {
      "text/plain": [
       "<matplotlib.collections.QuadMesh at 0x2b0dc887dfd0>"
      ]
     },
     "execution_count": 8,
     "metadata": {},
     "output_type": "execute_result"
    },
    {
     "data": {
      "image/png": "[encoded data removed]",
      "text/plain": [
       "<Figure size 432x288 with 2 Axes>"
      ]
     },
     "metadata": {
      "needs_background": "light"
     },
     "output_type": "display_data"
    }
   ],
   "source": [
    "with xr.set_options(keep_attrs=True):\n",
    "    ssh_mean = ds['SSH'].mean(dim='time')\n",
    "ssh_mean.plot()"
   ]
  },
  {
   "cell_type": "markdown",
   "metadata": {},
   "source": [
    "Apply a simple smoothing function to the mean SSH field.\n",
    "\n",
    "This is crude, but should be ok for initial visualization."
   ]
  },
  {
   "cell_type": "code",
   "execution_count": 9,
   "metadata": {},
   "outputs": [
    {
     "data": {
      "text/plain": [
       "<matplotlib.collections.QuadMesh at 0x2b0dc8f9c390>"
      ]
     },
     "execution_count": 9,
     "metadata": {},
     "output_type": "execute_result"
    },
    {
     "data": {
      "image/png": "[encoded data removed]",
      "text/plain": [
       "<Figure size 432x288 with 2 Axes>"
      ]
     },
     "metadata": {
      "needs_background": "light"
     },
     "output_type": "display_data"
    }
   ],
   "source": [
    "import scipy \n",
    "import scipy.ndimage\n",
    "ssh_mean_smth = xr.full_like(ssh_mean, fill_value=np.nan)\n",
    "ssh_mean_smth.data = scipy.ndimage.filters.gaussian_filter(ssh_mean.values, [10., 10.], mode='mirror')\n",
    "\n",
    "ssh_mean_smth.plot()"
   ]
  },
  {
   "cell_type": "markdown",
   "metadata": {},
   "source": [
    "Compute SSH anomalies"
   ]
  },
  {
   "cell_type": "code",
   "execution_count": 10,
   "metadata": {},
   "outputs": [
    {
     "data": {
      "text/plain": [
       "<matplotlib.collections.QuadMesh at 0x2b0dd24e1f50>"
      ]
     },
     "execution_count": 10,
     "metadata": {},
     "output_type": "execute_result"
    },
    {
     "data": {
      "image/png": "[encoded data removed]",
      "text/plain": [
       "<Figure size 432x288 with 2 Axes>"
      ]
     },
     "metadata": {
      "needs_background": "light"
     },
     "output_type": "display_data"
    }
   ],
   "source": [
    "ds['aSSH'] = ds['SSH'] - ssh_mean_smth\n",
    "ds.aSSH.isel(time=0).plot()"
   ]
  },
  {
   "cell_type": "code",
   "execution_count": 11,
   "metadata": {},
   "outputs": [
    {
     "data": {
      "text/plain": [
       "(-29.11942, 28.374672)"
      ]
     },
     "execution_count": 11,
     "metadata": {},
     "output_type": "execute_result"
    }
   ],
   "source": [
    "ds.aSSH.values.min(), ds.aSSH.values.max()"
   ]
  },
  {
   "cell_type": "markdown",
   "metadata": {},
   "source": [
    "## Eddy tracks\n",
    "Tracks were from SLA that was filtered using a loess.  The only issue I had was with edge effects along the domain boundaries.   I have fixed that now and have new tracks for you to use (link below).  \n",
    "\n",
    "gaube_structured_tracks_reformat.mat?dl=0\n",
    "\n",
    "The results of any composite analysis should be unchanged unless you are using eddies that propagate across the 0-360 degree boundary.  This problem has been resolved in the version I have attached to this email.  Even if you don’t use eddies in this regions, I suggest you start using these updated tracks."
   ]
  },
  {
   "cell_type": "code",
   "execution_count": 12,
   "metadata": {},
   "outputs": [],
   "source": [
    "def date(ymd):\n",
    "    \"\"\"Return cftime object corresponding to model time at the end of the averaging interval\"\"\"\n",
    "    num = cftime.date2num(cftime.DatetimeNoLeap(ymd[0], ymd[1], ymd[2]), \n",
    "                          units='days since 0001-01-01 00:00:00', calendar='noleap')\n",
    "    return cftime.num2date(num+1, units='days since 0001-01-01 00:00:00', calendar='noleap')"
   ]
  },
  {
   "cell_type": "code",
   "execution_count": 13,
   "metadata": {},
   "outputs": [
    {
     "name": "stdout",
     "output_type": "stream",
     "text": [
      "reading ./data/gaube_structured_tracks_reformat.gzip\n"
     ]
    },
    {
     "data": {
      "text/html": [
       "<div>\n",
       "<style scoped>\n",
       "    .dataframe tbody tr th:only-of-type {\n",
       "        vertical-align: middle;\n",
       "    }\n",
       "\n",
       "    .dataframe tbody tr th {\n",
       "        vertical-align: top;\n",
       "    }\n",
       "\n",
       "    .dataframe thead th {\n",
       "        text-align: right;\n",
       "    }\n",
       "</style>\n",
       "<table border=\"1\" class=\"dataframe\">\n",
       "  <thead>\n",
       "    <tr style=\"text-align: right;\">\n",
       "      <th></th>\n",
       "      <th>Unnamed: 0</th>\n",
       "      <th>index</th>\n",
       "      <th>x</th>\n",
       "      <th>y</th>\n",
       "      <th>amp</th>\n",
       "      <th>area</th>\n",
       "      <th>u</th>\n",
       "      <th>age</th>\n",
       "      <th>Ls</th>\n",
       "      <th>id</th>\n",
       "      <th>cyc</th>\n",
       "      <th>year</th>\n",
       "      <th>mon</th>\n",
       "      <th>day</th>\n",
       "      <th>time</th>\n",
       "    </tr>\n",
       "  </thead>\n",
       "  <tbody>\n",
       "    <tr>\n",
       "      <th>0</th>\n",
       "      <td>0</td>\n",
       "      <td>77</td>\n",
       "      <td>345.017916</td>\n",
       "      <td>45.243535</td>\n",
       "      <td>5.978040</td>\n",
       "      <td>17506.440855</td>\n",
       "      <td>10.927903</td>\n",
       "      <td>25.0</td>\n",
       "      <td>74.649000</td>\n",
       "      <td>78</td>\n",
       "      <td>1</td>\n",
       "      <td>1</td>\n",
       "      <td>1</td>\n",
       "      <td>5</td>\n",
       "      <td>0001-01-06 00:00:00</td>\n",
       "    </tr>\n",
       "    <tr>\n",
       "      <th>1</th>\n",
       "      <td>1</td>\n",
       "      <td>2867</td>\n",
       "      <td>339.191105</td>\n",
       "      <td>51.942869</td>\n",
       "      <td>1.393375</td>\n",
       "      <td>4717.681116</td>\n",
       "      <td>NaN</td>\n",
       "      <td>10.0</td>\n",
       "      <td>38.751575</td>\n",
       "      <td>111351</td>\n",
       "      <td>-1</td>\n",
       "      <td>1</td>\n",
       "      <td>1</td>\n",
       "      <td>10</td>\n",
       "      <td>0001-01-11 00:00:00</td>\n",
       "    </tr>\n",
       "    <tr>\n",
       "      <th>2</th>\n",
       "      <td>2</td>\n",
       "      <td>2899</td>\n",
       "      <td>343.879721</td>\n",
       "      <td>49.976579</td>\n",
       "      <td>3.322654</td>\n",
       "      <td>30297.236035</td>\n",
       "      <td>4.546787</td>\n",
       "      <td>20.0</td>\n",
       "      <td>98.203410</td>\n",
       "      <td>111377</td>\n",
       "      <td>-1</td>\n",
       "      <td>1</td>\n",
       "      <td>1</td>\n",
       "      <td>10</td>\n",
       "      <td>0001-01-11 00:00:00</td>\n",
       "    </tr>\n",
       "    <tr>\n",
       "      <th>3</th>\n",
       "      <td>3</td>\n",
       "      <td>6893</td>\n",
       "      <td>339.514680</td>\n",
       "      <td>51.943507</td>\n",
       "      <td>1.953841</td>\n",
       "      <td>5745.997173</td>\n",
       "      <td>NaN</td>\n",
       "      <td>10.0</td>\n",
       "      <td>42.766900</td>\n",
       "      <td>111351</td>\n",
       "      <td>-1</td>\n",
       "      <td>1</td>\n",
       "      <td>1</td>\n",
       "      <td>15</td>\n",
       "      <td>0001-01-16 00:00:00</td>\n",
       "    </tr>\n",
       "    <tr>\n",
       "      <th>4</th>\n",
       "      <td>4</td>\n",
       "      <td>6925</td>\n",
       "      <td>343.675240</td>\n",
       "      <td>50.293491</td>\n",
       "      <td>4.167441</td>\n",
       "      <td>25875.469585</td>\n",
       "      <td>6.956565</td>\n",
       "      <td>20.0</td>\n",
       "      <td>90.754712</td>\n",
       "      <td>111377</td>\n",
       "      <td>-1</td>\n",
       "      <td>1</td>\n",
       "      <td>1</td>\n",
       "      <td>15</td>\n",
       "      <td>0001-01-16 00:00:00</td>\n",
       "    </tr>\n",
       "    <tr>\n",
       "      <th>...</th>\n",
       "      <td>...</td>\n",
       "      <td>...</td>\n",
       "      <td>...</td>\n",
       "      <td>...</td>\n",
       "      <td>...</td>\n",
       "      <td>...</td>\n",
       "      <td>...</td>\n",
       "      <td>...</td>\n",
       "      <td>...</td>\n",
       "      <td>...</td>\n",
       "      <td>...</td>\n",
       "      <td>...</td>\n",
       "      <td>...</td>\n",
       "      <td>...</td>\n",
       "      <td>...</td>\n",
       "    </tr>\n",
       "    <tr>\n",
       "      <th>4663</th>\n",
       "      <td>4663</td>\n",
       "      <td>1517043</td>\n",
       "      <td>344.439846</td>\n",
       "      <td>47.157490</td>\n",
       "      <td>2.110460</td>\n",
       "      <td>8774.181582</td>\n",
       "      <td>NaN</td>\n",
       "      <td>30.0</td>\n",
       "      <td>52.847978</td>\n",
       "      <td>109325</td>\n",
       "      <td>1</td>\n",
       "      <td>5</td>\n",
       "      <td>12</td>\n",
       "      <td>31</td>\n",
       "      <td>0006-01-01 00:00:00</td>\n",
       "    </tr>\n",
       "    <tr>\n",
       "      <th>4664</th>\n",
       "      <td>4664</td>\n",
       "      <td>1518810</td>\n",
       "      <td>338.696344</td>\n",
       "      <td>46.851582</td>\n",
       "      <td>6.506414</td>\n",
       "      <td>44584.650837</td>\n",
       "      <td>11.891233</td>\n",
       "      <td>25.0</td>\n",
       "      <td>119.129069</td>\n",
       "      <td>225872</td>\n",
       "      <td>-1</td>\n",
       "      <td>5</td>\n",
       "      <td>12</td>\n",
       "      <td>31</td>\n",
       "      <td>0006-01-01 00:00:00</td>\n",
       "    </tr>\n",
       "    <tr>\n",
       "      <th>4665</th>\n",
       "      <td>4665</td>\n",
       "      <td>1518845</td>\n",
       "      <td>342.642812</td>\n",
       "      <td>45.599949</td>\n",
       "      <td>1.498164</td>\n",
       "      <td>6651.642815</td>\n",
       "      <td>NaN</td>\n",
       "      <td>15.0</td>\n",
       "      <td>46.013951</td>\n",
       "      <td>226572</td>\n",
       "      <td>-1</td>\n",
       "      <td>5</td>\n",
       "      <td>12</td>\n",
       "      <td>31</td>\n",
       "      <td>0006-01-01 00:00:00</td>\n",
       "    </tr>\n",
       "    <tr>\n",
       "      <th>4666</th>\n",
       "      <td>4666</td>\n",
       "      <td>1518847</td>\n",
       "      <td>343.117749</td>\n",
       "      <td>49.111349</td>\n",
       "      <td>7.197111</td>\n",
       "      <td>19338.696822</td>\n",
       "      <td>11.816581</td>\n",
       "      <td>170.0</td>\n",
       "      <td>78.458259</td>\n",
       "      <td>216729</td>\n",
       "      <td>-1</td>\n",
       "      <td>5</td>\n",
       "      <td>12</td>\n",
       "      <td>31</td>\n",
       "      <td>0006-01-01 00:00:00</td>\n",
       "    </tr>\n",
       "    <tr>\n",
       "      <th>4667</th>\n",
       "      <td>4667</td>\n",
       "      <td>1518849</td>\n",
       "      <td>343.299513</td>\n",
       "      <td>52.309908</td>\n",
       "      <td>15.929627</td>\n",
       "      <td>26871.667688</td>\n",
       "      <td>28.258425</td>\n",
       "      <td>50.0</td>\n",
       "      <td>92.485228</td>\n",
       "      <td>224302</td>\n",
       "      <td>-1</td>\n",
       "      <td>5</td>\n",
       "      <td>12</td>\n",
       "      <td>31</td>\n",
       "      <td>0006-01-01 00:00:00</td>\n",
       "    </tr>\n",
       "  </tbody>\n",
       "</table>\n",
       "<p>4668 rows × 15 columns</p>\n",
       "</div>"
      ],
      "text/plain": [
       "      Unnamed: 0    index           x          y        amp          area  \\\n",
       "0              0       77  345.017916  45.243535   5.978040  17506.440855   \n",
       "1              1     2867  339.191105  51.942869   1.393375   4717.681116   \n",
       "2              2     2899  343.879721  49.976579   3.322654  30297.236035   \n",
       "3              3     6893  339.514680  51.943507   1.953841   5745.997173   \n",
       "4              4     6925  343.675240  50.293491   4.167441  25875.469585   \n",
       "...          ...      ...         ...        ...        ...           ...   \n",
       "4663        4663  1517043  344.439846  47.157490   2.110460   8774.181582   \n",
       "4664        4664  1518810  338.696344  46.851582   6.506414  44584.650837   \n",
       "4665        4665  1518845  342.642812  45.599949   1.498164   6651.642815   \n",
       "4666        4666  1518847  343.117749  49.111349   7.197111  19338.696822   \n",
       "4667        4667  1518849  343.299513  52.309908  15.929627  26871.667688   \n",
       "\n",
       "              u    age          Ls      id  cyc  year  mon  day  \\\n",
       "0     10.927903   25.0   74.649000      78    1     1    1    5   \n",
       "1           NaN   10.0   38.751575  111351   -1     1    1   10   \n",
       "2      4.546787   20.0   98.203410  111377   -1     1    1   10   \n",
       "3           NaN   10.0   42.766900  111351   -1     1    1   15   \n",
       "4      6.956565   20.0   90.754712  111377   -1     1    1   15   \n",
       "...         ...    ...         ...     ...  ...   ...  ...  ...   \n",
       "4663        NaN   30.0   52.847978  109325    1     5   12   31   \n",
       "4664  11.891233   25.0  119.129069  225872   -1     5   12   31   \n",
       "4665        NaN   15.0   46.013951  226572   -1     5   12   31   \n",
       "4666  11.816581  170.0   78.458259  216729   -1     5   12   31   \n",
       "4667  28.258425   50.0   92.485228  224302   -1     5   12   31   \n",
       "\n",
       "                     time  \n",
       "0     0001-01-06 00:00:00  \n",
       "1     0001-01-11 00:00:00  \n",
       "2     0001-01-11 00:00:00  \n",
       "3     0001-01-16 00:00:00  \n",
       "4     0001-01-16 00:00:00  \n",
       "...                   ...  \n",
       "4663  0006-01-01 00:00:00  \n",
       "4664  0006-01-01 00:00:00  \n",
       "4665  0006-01-01 00:00:00  \n",
       "4666  0006-01-01 00:00:00  \n",
       "4667  0006-01-01 00:00:00  \n",
       "\n",
       "[4668 rows x 15 columns]"
      ]
     },
     "execution_count": 13,
     "metadata": {},
     "output_type": "execute_result"
    }
   ],
   "source": [
    "file_local_tracks = './data/gaube_structured_tracks_reformat.gzip'\n",
    "\n",
    "if not os.path.exists(file_local_tracks):\n",
    "    track_file = '/glade/p/cgd/oce/people/mclong/hi-res-eco/data/analysis/gaube_structured_tracks_reformat.mat'\n",
    "    tracks = util.track_mat2py(track_file)\n",
    "\n",
    "    in_region = ((domain['lat'][0] <= tracks.y) & (tracks.y <= domain['lat'][1]) & \n",
    "                 (domain['lon'][0] <= tracks.x) & (tracks.x <= domain['lon'][1]))\n",
    "\n",
    "    tracks = tracks.loc[in_region].reset_index()    \n",
    "\n",
    "    print(f'writing {file_local_tracks}')\n",
    "    tracks.to_csv(file_local_tracks, compression='gzip', index=True)\n",
    "    \n",
    "else:\n",
    "    print(f'reading {file_local_tracks}')\n",
    "    tracks = pd.read_csv(file_local_tracks, compression='gzip')\n",
    "    \n",
    "tracks['time'] = tracks[['year', 'mon', 'day']].apply(date, axis=1)   \n",
    "tracks"
   ]
  },
  {
   "cell_type": "markdown",
   "metadata": {},
   "source": [
    "## plotting functions\n",
    "Define a plot function to be called in loop"
   ]
  },
  {
   "cell_type": "code",
   "execution_count": null,
   "metadata": {},
   "outputs": [],
   "source": [
    "contour_spec = dict(\n",
    "    chl_surf=dict(levels=np.arange(0, 1.1, 0.1), extend='max'),\n",
    "    NCP=dict(levels=np.arange(0, 50.5, 5), extend='both'),    \n",
    "    POC_flux_100m=dict(levels=np.arange(0, 10.5, 0.5), extend='max'),\n",
    ")\n",
    "\n",
    "def long_name_units(variable):\n",
    "    if 'long_name' in ds[variable].attrs:\n",
    "        long_name = ds[variable].attrs['long_name']\n",
    "    else:\n",
    "        long_name = variable\n",
    "\n",
    "    if 'units' in ds[variable].attrs:\n",
    "        units = ds[variable].attrs['units']\n",
    "    else:\n",
    "        units = None\n",
    "    \n",
    "    return long_name, units\n",
    "\n",
    "\n",
    "lon = grid.TLONG.isel(nlat=jnx, nlon=inx)\n",
    "lat = grid.TLAT.isel(nlat=jnx, nlon=inx)\n",
    "\n",
    "def one_plot(da_var, da_aSSH, time_level, time_index, long_name, units, figname=None):\n",
    "       \n",
    "    fig = plt.figure(figsize=(16, 8))\n",
    "\n",
    "    # 46-52N and 15-23W \n",
    "    extent = [-24, -15, 45, 53]\n",
    "    \n",
    "#    prj = ccrs.Mollweide(central_longitude=np.mean(extent[0:2]))\n",
    "    prj = ccrs.Mercator(central_longitude=np.mean(extent[0:2]))\n",
    "    ax = plt.axes(projection=prj)\n",
    "    ax.set_extent(extent)\n",
    "\n",
    "    cf = ax.contourf(lon, lat, da_var,                     \n",
    "                     transform=ccrs.PlateCarree(),\n",
    "                     **contour_spec[variable])\n",
    "    \n",
    "    ax.contour(lon, lat, da_aSSH,               \n",
    "               colors='gray',\n",
    "               levels=np.arange(-20, 24, 4),\n",
    "               transform=ccrs.PlateCarree()); \n",
    "\n",
    "    cyclone = tracks.loc[(time_level == tracks.time) & (tracks.cyc == -1)]\n",
    "    ax.plot(cyclone.x, cyclone.y, 'rx', markersize=6, transform=ccrs.PlateCarree())\n",
    "    ax.plot(cyclone.x, cyclone.y, 'ro', markersize=8, markerfacecolor='none', transform=ccrs.PlateCarree())\n",
    "    \n",
    "    anticyc = tracks.loc[(time_level == tracks.time) & (tracks.cyc == 1)]\n",
    "    ax.plot(anticyc.x, anticyc.y, 'b.', markersize=4, transform=ccrs.PlateCarree())\n",
    "    ax.plot(anticyc.x, anticyc.y, 'bo', markersize=8, markerfacecolor='none', transform=ccrs.PlateCarree())    \n",
    "    \n",
    "    cb = plt.colorbar(cf)\n",
    "    \n",
    "    ax.set_title(f'{time_level.year:04d}-{time_level.month:02d}-{time_level.day:02d}', loc='left')\n",
    "    ax.set_title(f'{long_name}', loc='right')\n",
    "\n",
    "    if units is not None:\n",
    "        cb.ax.set_title(f'{units}')\n",
    "    \n",
    "    \n",
    "    ax.set_yticks(np.arange(45, 55, 2.5), crs=ccrs.PlateCarree())\n",
    "    ax.set_xticks(np.arange(-24, -14, 2), crs=ccrs.PlateCarree())\n",
    "    \n",
    "    lon_formatter = LongitudeFormatter(zero_direction_label=True)\n",
    "    lat_formatter = LatitudeFormatter()\n",
    "    ax.xaxis.set_major_formatter(lon_formatter)\n",
    "    ax.yaxis.set_major_formatter(lat_formatter)\n",
    "\n",
    "    \n",
    "    if figname is not None:\n",
    "        fig.savefig(figname, dpi=300, bbox_inches='tight')    \n",
    "        plt.close()\n",
    "    \n",
    "i = 90  \n",
    "variable = 'POC_flux_100m'\n",
    "\n",
    "long_name, units = long_name_units(variable)\n",
    "\n",
    "one_plot(da_var=ds[variable].isel(time=i), \n",
    "         da_aSSH=ds['aSSH'].isel(time=i), \n",
    "         time_level=ds.time.values[i],\n",
    "         time_index=i, \n",
    "         long_name=long_name, \n",
    "         units=units)"
   ]
  },
  {
   "cell_type": "markdown",
   "metadata": {},
   "source": [
    "## loop over files and plot each\n",
    "\n",
    "Call `plot` in loop using `dask.delayed`"
   ]
  },
  {
   "cell_type": "code",
   "execution_count": null,
   "metadata": {},
   "outputs": [],
   "source": [
    "results = []\n",
    "for v in ['NCP', 'POC_flux_100m', 'chl_surf',]:\n",
    "    \n",
    "    os.makedirs(f'figs/movie_imgs/{v}', exist_ok=True)\n",
    "    \n",
    "    long_name, units = long_name_units(v)\n",
    "    \n",
    "    for i in range(len(files)):\n",
    "        figo = one_plot(da_var=ds[v].isel(time=i), \n",
    "                        da_aSSH=ds['aSSH'].isel(time=i), \n",
    "                        time_level=ds.time.values[i],\n",
    "                        time_index=i, \n",
    "                        long_name=long_name, \n",
    "                        units=units,\n",
    "                        figname=f'figs/movie_imgs/{v}')\n",
    "        results.append(figo)\n",
    "            \n",
    "#results = dask.compute(*results)         "
   ]
  },
  {
   "cell_type": "markdown",
   "metadata": {},
   "source": [
    "Call compute to execute plotting"
   ]
  },
  {
   "cell_type": "code",
   "execution_count": null,
   "metadata": {},
   "outputs": [],
   "source": []
  },
  {
   "cell_type": "code",
   "execution_count": null,
   "metadata": {},
   "outputs": [],
   "source": []
  }
 ],
 "metadata": {
  "kernelspec": {
   "display_name": "Python [conda env:exports]",
   "language": "python",
   "name": "conda-env-exports-py"
  },
  "language_info": {
   "codemirror_mode": {
    "name": "ipython",
    "version": 3
   },
   "file_extension": ".py",
   "mimetype": "text/x-python",
   "name": "python",
   "nbconvert_exporter": "python",
   "pygments_lexer": "ipython3",
   "version": "3.7.6"
  }
 },
 "nbformat": 4,
 "nbformat_minor": 4
}
