{
 "cells": [
  {
   "cell_type": "markdown",
   "metadata": {},
   "source": [
    "# BGC response of a cyclone vs. anticyclone \n",
    "\n",
    "**Region:** 46-52N and 15-23W"
   ]
  },
  {
   "cell_type": "code",
   "execution_count": 1,
   "metadata": {},
   "outputs": [
    {
     "name": "stderr",
     "output_type": "stream",
     "text": [
      "Cannot write to data cache '/glade/p/cesmdata/cseg'. Will not be able to download remote data files. Use environment variable 'CESMDATAROOT' to specify another directory.\n"
     ]
    }
   ],
   "source": [
    "import xarray as xr\n",
    "import pandas as pd\n",
    "import numpy as np\n",
    "import pop_tools\n",
    "import cartopy.crs as ccrs\n",
    "import matplotlib.pyplot as plt\n",
    "import cftime\n",
    "from cartopy.mpl.ticker import LongitudeFormatter, LatitudeFormatter\n",
    "import cartopy\n",
    "import dask\n",
    "import os"
   ]
  },
  {
   "cell_type": "code",
   "execution_count": 2,
   "metadata": {},
   "outputs": [],
   "source": [
    "#from distributed import Client"
   ]
  },
  {
   "cell_type": "code",
   "execution_count": 3,
   "metadata": {},
   "outputs": [],
   "source": [
    "#client = Client(n_workers=4, threads_per_worker=1)\n",
    "#client"
   ]
  },
  {
   "cell_type": "code",
   "execution_count": 4,
   "metadata": {},
   "outputs": [
    {
     "name": "stderr",
     "output_type": "stream",
     "text": [
      "/glade/work/mclong/miniconda3/envs/exports/lib/python3.7/site-packages/distributed/dashboard/core.py:79: UserWarning: \n",
      "Port 8787 is already in use. \n",
      "Perhaps you already have a cluster running?\n",
      "Hosting the diagnostics dashboard on a random port instead.\n",
      "  warnings.warn(\"\\n\" + msg)\n"
     ]
    },
    {
     "data": {
      "text/html": [
       "<table style=\"border: 2px solid white;\">\n",
       "<tr>\n",
       "<td style=\"vertical-align: top; border: 0px solid white\">\n",
       "<h3 style=\"text-align: left;\">Client</h3>\n",
       "<ul style=\"text-align: left; list-style: none; margin: 0; padding: 0;\">\n",
       "  <li><b>Scheduler: </b>tcp://128.117.181.208:46794</li>\n",
       "  <li><b>Dashboard: </b><a href='https://jupyterhub.ucar.edu/dav/user/mclong/proxy/39941/status' target='_blank'>https://jupyterhub.ucar.edu/dav/user/mclong/proxy/39941/status</a>\n",
       "</ul>\n",
       "</td>\n",
       "<td style=\"vertical-align: top; border: 0px solid white\">\n",
       "<h3 style=\"text-align: left;\">Cluster</h3>\n",
       "<ul style=\"text-align: left; list-style:none; margin: 0; padding: 0;\">\n",
       "  <li><b>Workers: </b>0</li>\n",
       "  <li><b>Cores: </b>0</li>\n",
       "  <li><b>Memory: </b>0 B</li>\n",
       "</ul>\n",
       "</td>\n",
       "</tr>\n",
       "</table>"
      ],
      "text/plain": [
       "<Client: 'tcp://128.117.181.208:46794' processes=0 threads=0, memory=0 B>"
      ]
     },
     "execution_count": 4,
     "metadata": {},
     "output_type": "execute_result"
    }
   ],
   "source": [
    "from ncar_jobqueue import NCARCluster\n",
    "from dask.distributed import Client\n",
    "\n",
    "cluster = NCARCluster()\n",
    "cluster.scale(36) #adapt(minimum_jobs=1, maximum_jobs=40)\n",
    "client = Client(cluster) # Connect this local process to remote workers\n",
    "client"
   ]
  },
  {
   "cell_type": "code",
   "execution_count": 5,
   "metadata": {},
   "outputs": [],
   "source": [
    "grid = pop_tools.get_grid(\"POP_tx0.1v2\")"
   ]
  },
  {
   "cell_type": "code",
   "execution_count": 6,
   "metadata": {},
   "outputs": [],
   "source": [
    "domain = {\"lat\": [45, 52.5], \"lon\": [360 - 24, 360 - 14]}\n",
    "\n",
    "J, _ = np.where((domain[\"lat\"][0] <= grid.TLAT) & (grid.TLAT <= domain[\"lat\"][1]))\n",
    "_, I = np.where((domain[\"lon\"][0] <= grid.TLONG) & (grid.TLONG <= domain[\"lon\"][1]))\n",
    "\n",
    "inx = slice(I.min(), I.max())\n",
    "jnx = slice(J.min(), J.max())"
   ]
  },
  {
   "cell_type": "code",
   "execution_count": 7,
   "metadata": {},
   "outputs": [],
   "source": [
    "zarr_stores = [\n",
    "    \"./data/g.e11.G.T62_t12.eco.006.pop.h.chl_surf.zarr/\",\n",
    "    \"./data/g.e11.G.T62_t12.eco.006.pop.h.NCP.zarr/\",\n",
    "    \"./data/g.e11.G.T62_t12.eco.006.pop.h.POC_flux_100m.zarr/\",\n",
    "    \"./data/g.e11.G.T62_t12.eco.006.pop.h.SSH.zarr/\",\n",
    "]"
   ]
  },
  {
   "cell_type": "code",
   "execution_count": 8,
   "metadata": {},
   "outputs": [],
   "source": [
    "dsets = [xr.open_zarr(store) for store in zarr_stores]\n",
    "ds = xr.merge(dsets)"
   ]
  },
  {
   "cell_type": "code",
   "execution_count": 9,
   "metadata": {},
   "outputs": [],
   "source": [
    "import scipy\n",
    "import scipy.ndimage\n",
    "\n",
    "ssh_mean = ds[\"SSH\"].mean(dim=\"time\")\n",
    "ssh_mean_smth = xr.full_like(ssh_mean, fill_value=np.nan)\n",
    "ssh_mean_smth.data = scipy.ndimage.filters.gaussian_filter(\n",
    "    ssh_mean.values, [10.0, 10.0], mode=\"mirror\"\n",
    ")\n",
    "ds[\"aSSH\"] = ds[\"SSH\"] - ssh_mean_smth"
   ]
  },
  {
   "cell_type": "code",
   "execution_count": 10,
   "metadata": {},
   "outputs": [],
   "source": [
    "def date(ymd):\n",
    "    \"\"\"Return cftime object corresponding to model time at the end of the averaging interval\"\"\"\n",
    "    num = cftime.date2num(\n",
    "        cftime.DatetimeNoLeap(ymd[0], ymd[1], ymd[2]),\n",
    "        units=\"days since 0001-01-01 00:00:00\",\n",
    "        calendar=\"noleap\",\n",
    "    )\n",
    "    return cftime.num2date(\n",
    "        num + 1, units=\"days since 0001-01-01 00:00:00\", calendar=\"noleap\"\n",
    "    )\n",
    "\n",
    "\n",
    "tracks = pd.read_csv(\"./data/gaube_structured_tracks_reformat.gzip\", compression=\"gzip\")\n",
    "tracks[\"time\"] = tracks[[\"year\", \"mon\", \"day\"]].apply(date, axis=1)"
   ]
  },
  {
   "cell_type": "code",
   "execution_count": 11,
   "metadata": {},
   "outputs": [],
   "source": [
    "contour_spec = dict(\n",
    "    chl_surf=dict(levels=np.arange(0, 1.1, 0.1), extend=\"max\"),\n",
    "    NCP=dict(levels=np.arange(0, 50.5, 5), extend=\"both\"),\n",
    "    POC_flux_100m=dict(levels=np.arange(0, 10.5, 0.5), extend=\"max\"),\n",
    ")\n",
    "\n",
    "\n",
    "def long_name_units(variable):\n",
    "    if \"long_name\" in ds[variable].attrs:\n",
    "        long_name = ds[variable].attrs[\"long_name\"]\n",
    "    else:\n",
    "        long_name = variable\n",
    "\n",
    "    if \"units\" in ds[variable].attrs:\n",
    "        units = ds[variable].attrs[\"units\"]\n",
    "    else:\n",
    "        units = None\n",
    "\n",
    "    return long_name, units\n",
    "\n",
    "\n",
    "grid = client.scatter(grid)\n",
    "tracks = client.scatter(tracks)\n",
    "\n",
    "\n",
    "def one_plot(grid, tracks, variable, time_value, figname=None):\n",
    "    time_index = np.argwhere(ds.time.values == time_value).flatten()[0]\n",
    "    da_var = ds[variable].isel(time=time_index)\n",
    "    da_aSSH = ds[\"aSSH\"].isel(time=time_index)\n",
    "    time_level = ds.time.values[time_index]\n",
    "    long_name, units = long_name_units(variable)\n",
    "\n",
    "    fig = plt.figure(figsize=(16, 8))\n",
    "\n",
    "    # 46-52N and 15-23W\n",
    "    extent = [-24, -15, 45, 53]\n",
    "\n",
    "    #    prj = ccrs.Mollweide(central_longitude=np.mean(extent[0:2]))\n",
    "    prj = ccrs.Mercator(central_longitude=np.mean(extent[0:2]))\n",
    "    ax = plt.axes(projection=prj)\n",
    "    ax.set_extent(extent)\n",
    "\n",
    "    lon = grid.TLONG.isel(nlat=jnx, nlon=inx)\n",
    "    lat = grid.TLAT.isel(nlat=jnx, nlon=inx)\n",
    "\n",
    "    cf = ax.contourf(\n",
    "        lon, lat, da_var, transform=ccrs.PlateCarree(), **contour_spec[variable]\n",
    "    )\n",
    "\n",
    "    ax.contour(\n",
    "        lon,\n",
    "        lat,\n",
    "        da_aSSH,\n",
    "        colors=\"gray\",\n",
    "        levels=np.arange(-20, 24, 4),\n",
    "        transform=ccrs.PlateCarree(),\n",
    "    )\n",
    "\n",
    "    cyclone = tracks.loc[(time_level == tracks.time) & (tracks.cyc == -1)]\n",
    "    ax.plot(cyclone.x, cyclone.y, \"rx\", markersize=6, transform=ccrs.PlateCarree())\n",
    "    ax.plot(\n",
    "        cyclone.x,\n",
    "        cyclone.y,\n",
    "        \"ro\",\n",
    "        markersize=8,\n",
    "        markerfacecolor=\"none\",\n",
    "        transform=ccrs.PlateCarree(),\n",
    "    )\n",
    "\n",
    "    anticyc = tracks.loc[(time_level == tracks.time) & (tracks.cyc == 1)]\n",
    "    ax.plot(anticyc.x, anticyc.y, \"b.\", markersize=4, transform=ccrs.PlateCarree())\n",
    "    ax.plot(\n",
    "        anticyc.x,\n",
    "        anticyc.y,\n",
    "        \"bo\",\n",
    "        markersize=8,\n",
    "        markerfacecolor=\"none\",\n",
    "        transform=ccrs.PlateCarree(),\n",
    "    )\n",
    "\n",
    "    cb = plt.colorbar(cf)\n",
    "\n",
    "    ax.set_title(\n",
    "        f\"{time_level.year:04d}-{time_level.month:02d}-{time_level.day:02d}\", loc=\"left\"\n",
    "    )\n",
    "    ax.set_title(f\"{long_name}\", loc=\"right\")\n",
    "\n",
    "    if units is not None:\n",
    "        cb.ax.set_title(f\"{units}\")\n",
    "\n",
    "    ax.set_yticks(np.arange(45, 55, 2.5), crs=ccrs.PlateCarree())\n",
    "    ax.set_xticks(np.arange(-24, -14, 2), crs=ccrs.PlateCarree())\n",
    "\n",
    "    lon_formatter = LongitudeFormatter(zero_direction_label=True)\n",
    "    lat_formatter = LatitudeFormatter()\n",
    "    ax.xaxis.set_major_formatter(lon_formatter)\n",
    "    ax.yaxis.set_major_formatter(lat_formatter)\n",
    "\n",
    "    if figname is not None:\n",
    "        fig.savefig(figname, dpi=300, bbox_inches=\"tight\")\n",
    "        plt.close()"
   ]
  },
  {
   "cell_type": "code",
   "execution_count": 12,
   "metadata": {},
   "outputs": [],
   "source": [
    "one_plot_delayed = dask.delayed(one_plot)"
   ]
  },
  {
   "cell_type": "code",
   "execution_count": 15,
   "metadata": {},
   "outputs": [],
   "source": [
    "results = []\n",
    "variables = [\n",
    "    \"NCP\",\n",
    "    \"POC_flux_100m\",\n",
    "    \"chl_surf\",\n",
    "]\n",
    "for v in variables:\n",
    "    os.makedirs(f\"figs/movie_imgs/{v}\", exist_ok=True)\n",
    "    for i in range(ds.time.values.size):\n",
    "        figo = one_plot_delayed(\n",
    "            grid, tracks, v, ds.time.values[i], figname=f\"figs/movie_imgs/{v}/{i:03d}.png\"\n",
    "        )\n",
    "        results.append(figo)"
   ]
  },
  {
   "cell_type": "code",
   "execution_count": 16,
   "metadata": {},
   "outputs": [
    {
     "name": "stdout",
     "output_type": "stream",
     "text": [
      "CPU times: user 58.5 s, sys: 1.92 s, total: 1min\n",
      "Wall time: 1min 59s\n"
     ]
    }
   ],
   "source": [
    "%%time\n",
    "results = dask.compute(*results)"
   ]
  },
  {
   "cell_type": "code",
   "execution_count": null,
   "metadata": {},
   "outputs": [],
   "source": []
  }
 ],
 "metadata": {
  "kernelspec": {
   "display_name": "Python [conda env:miniconda3-exports]",
   "language": "python",
   "name": "conda-env-miniconda3-exports-py"
  },
  "language_info": {
   "codemirror_mode": {
    "name": "ipython",
    "version": 3
   },
   "file_extension": ".py",
   "mimetype": "text/x-python",
   "name": "python",
   "nbconvert_exporter": "python",
   "pygments_lexer": "ipython3",
   "version": "3.7.6"
  },
  "widgets": {
   "application/vnd.jupyter.widget-state+json": {
    "state": {},
    "version_major": 2,
    "version_minor": 0
   }
  }
 },
 "nbformat": 4,
 "nbformat_minor": 4
}
